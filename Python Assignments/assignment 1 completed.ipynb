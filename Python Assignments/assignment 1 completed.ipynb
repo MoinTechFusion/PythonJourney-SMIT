{
 "cells": [
  {
   "cell_type": "raw",
   "metadata": {},
   "source": [
    "1) A company decided to give bonus of 5% to employee if his/her year of service is more than 5 years.\n",
    "Ask user for their salary and year of service and print the net bonus amount\n"
   ]
  },
  {
   "cell_type": "code",
   "execution_count": 5,
   "metadata": {},
   "outputs": [
    {
     "name": "stdin",
     "output_type": "stream",
     "text": [
      "type your sallary: 6000\n",
      "enter year of service 7\n"
     ]
    },
    {
     "name": "stdout",
     "output_type": "stream",
     "text": [
      "wow you are eligble for bonus RS=300.00\n"
     ]
    }
   ],
   "source": [
    "salary = int(input(\"type your sallary:\"))\n",
    "year_of_service = int(input(\"enter year of service\"))\n",
    "\n",
    "if year_of_service > 5:\n",
    "    bonus = salary * 0.05\n",
    "\n",
    "    print(F\"wow you are eligble for bonus RS={bonus:.2f}\")\n",
    "else:\n",
    "    print(\"sorry you not eligble\")\n",
    "    \n",
    "    "
   ]
  },
  {
   "cell_type": "raw",
   "metadata": {},
   "source": [
    "\n",
    "2) Write a program to check whether a person is eligible for voting or not. (accept age from user) if age is greater than 17 eligible otherwise not eligible\n"
   ]
  },
  {
   "cell_type": "code",
   "execution_count": 22,
   "metadata": {},
   "outputs": [
    {
     "name": "stdin",
     "output_type": "stream",
     "text": [
      "enter your age: 4\n"
     ]
    },
    {
     "name": "stdout",
     "output_type": "stream",
     "text": [
      " sorry not eligible\n"
     ]
    }
   ],
   "source": [
    "age = int(input(\"enter your age:\"))\n",
    "\n",
    "if age > 17:\n",
    "    print(\"eligible for voting\")\n",
    "else:\n",
    "    print(\" sorry not eligible\")"
   ]
  },
  {
   "cell_type": "raw",
   "metadata": {},
   "source": [
    "\n",
    "3) Write a program to check whether a number entered by user is even or odd.\n"
   ]
  },
  {
   "cell_type": "code",
   "execution_count": 24,
   "metadata": {},
   "outputs": [
    {
     "name": "stdin",
     "output_type": "stream",
     "text": [
      "enter number: 3\n"
     ]
    },
    {
     "name": "stdout",
     "output_type": "stream",
     "text": [
      "number is odd\n"
     ]
    }
   ],
   "source": [
    "number = int(input(\"enter number:\"))\n",
    "\n",
    "if number%2==0:\n",
    "    print(\"number is even\")\n",
    "else:\n",
    "    print(\"number is odd\")"
   ]
  },
  {
   "cell_type": "raw",
   "metadata": {},
   "source": [
    "\n",
    "4) Write a program to check whether a number is divisible by 7 or not.\n",
    "Show Answer\n"
   ]
  },
  {
   "cell_type": "code",
   "execution_count": 28,
   "metadata": {},
   "outputs": [
    {
     "name": "stdin",
     "output_type": "stream",
     "text": [
      "enter the number: 5\n"
     ]
    },
    {
     "name": "stdout",
     "output_type": "stream",
     "text": [
      "5 not divisible by 7\n"
     ]
    }
   ],
   "source": [
    "num = int(input(\"enter the number:\"))\n",
    "\n",
    "if num%7==0:\n",
    "    print(f\"{num} divisible by 7\")\n",
    "else:\n",
    "    print(f\"{num} not divisible by 7\")"
   ]
  },
  {
   "cell_type": "raw",
   "metadata": {},
   "source": [
    "\n",
    "5) Write a program to display \n",
    "\"Hello\" if a number entered by user is a multiple of five , otherwise print \"Bye\".\n"
   ]
  },
  {
   "cell_type": "code",
   "execution_count": 2,
   "metadata": {},
   "outputs": [
    {
     "name": "stdin",
     "output_type": "stream",
     "text": [
      "enter a number: 234\n"
     ]
    },
    {
     "name": "stdout",
     "output_type": "stream",
     "text": [
      "bye\n"
     ]
    }
   ],
   "source": [
    "num = int(input(\"enter a number:\"))\n",
    "\n",
    "if num%5==0:\n",
    "    print(\"hello\")\n",
    "else:\n",
    "    print(\"bye\")"
   ]
  },
  {
   "cell_type": "raw",
   "metadata": {},
   "source": [
    "\n",
    "6) Write a program to display the last digit of a number.\n"
   ]
  },
  {
   "cell_type": "code",
   "execution_count": 19,
   "metadata": {},
   "outputs": [
    {
     "name": "stdin",
     "output_type": "stream",
     "text": [
      "enter the number: 87\n"
     ]
    },
    {
     "name": "stdout",
     "output_type": "stream",
     "text": [
      "the last digit of 87 is 7\n"
     ]
    }
   ],
   "source": [
    "num = int(input(\"enter the number:\"))\n",
    "\n",
    "last_digit = num % 10\n",
    "\n",
    "print(f\"the last digit of {num} is {last_digit}\")"
   ]
  },
  {
   "cell_type": "raw",
   "metadata": {},
   "source": [
    "\n",
    "7). Write a program to check whether the last digit of a number( entered by user ) is \n",
    "divisible by 3 or not.\n"
   ]
  },
  {
   "cell_type": "code",
   "execution_count": 22,
   "metadata": {},
   "outputs": [
    {
     "name": "stdin",
     "output_type": "stream",
     "text": [
      "enter a number: 5\n"
     ]
    },
    {
     "name": "stdout",
     "output_type": "stream",
     "text": [
      "the last digit 5 is not divisible by 3\n"
     ]
    }
   ],
   "source": [
    "num = int(input(\"enter a number:\"))\n",
    "\n",
    "last_digit = num % 10\n",
    "\n",
    "if last_digit%3==0:\n",
    "   print(f\"the last digit {last_digit} is divisible by 3\")\n",
    "else:\n",
    " print(f\"the last digit {last_digit} is not divisible by 3\")"
   ]
  },
  {
   "cell_type": "raw",
   "metadata": {},
   "source": [
    " 8) Take values of length and breadth of a rectangle from user and print if it is square or rectangle."
   ]
  },
  {
   "cell_type": "code",
   "execution_count": 33,
   "metadata": {},
   "outputs": [
    {
     "name": "stdin",
     "output_type": "stream",
     "text": [
      "enter a lenght: 3.5\n",
      "enter a breadth 3.5\n"
     ]
    },
    {
     "name": "stdout",
     "output_type": "stream",
     "text": [
      "this is a square\n"
     ]
    }
   ],
   "source": [
    "length= float(input(\"enter a lenght:\"))\n",
    "breadth= float(input(\"enter a breadth\"))\n",
    "\n",
    "if length == breadth:\n",
    "  print(\"this is a square\")\n",
    "else:\n",
    "    print(\"this is a rectangle\")"
   ]
  },
  {
   "cell_type": "raw",
   "metadata": {},
   "source": [
    "\n",
    "9) Take two int values from user and print greatest among them.\n"
   ]
  },
  {
   "cell_type": "code",
   "execution_count": 7,
   "metadata": {},
   "outputs": [
    {
     "name": "stdin",
     "output_type": "stream",
     "text": [
      "enter first integer: 3\n",
      "enter 2nd integer: 5\n"
     ]
    },
    {
     "name": "stdout",
     "output_type": "stream",
     "text": [
      "the greatest number is 5\n"
     ]
    }
   ],
   "source": [
    "value1= int(input(\"enter first integer:\"))\n",
    "value2= int(input(\"enter 2nd integer:\"))\n",
    "\n",
    "if value1>value2:\n",
    "    print(f\"the greatest number is {value1}\")\n",
    "elif value2>value1:\n",
    "    print(f\"the greatest number is {value2}\")\n",
    "else:\n",
    "    print(\"boths numbers are equal\")"
   ]
  },
  {
   "cell_type": "raw",
   "metadata": {},
   "source": [
    "\n",
    "10) A shop will give discount of 10% if the cost of purchased quantity is more than 1000.\n",
    "Ask user for quantity\n",
    "Suppose, one unit will cost 100.\n",
    "Judge and print total cost for user.\n"
   ]
  },
  {
   "cell_type": "code",
   "execution_count": 40,
   "metadata": {},
   "outputs": [
    {
     "name": "stdin",
     "output_type": "stream",
     "text": [
      "quantity you buy: 23\n"
     ]
    },
    {
     "name": "stdout",
     "output_type": "stream",
     "text": [
      "2070.0 is the total cost after 230.0 discount\n"
     ]
    }
   ],
   "source": [
    "cost_per_unit = 100\n",
    "\n",
    "quantity = int(input(\"quantity you buy:\"))\n",
    "\n",
    "total_cost = quantity * cost_per_unit\n",
    "\n",
    "if total_cost > 1000:\n",
    "    discount = total_cost * 0.1\n",
    "    total_cost -= discount\n",
    "    print(f\"{total_cost} is the total cost after {discount} discount\")\n",
    "else:\n",
    "    print(\"sorry\")"
   ]
  },
  {
   "cell_type": "raw",
   "metadata": {},
   "source": [
    "\n",
    "11) A school has following rules for grading system:\n",
    "\n",
    "a. Below 25 - F\n",
    "\n",
    "b. 25 to 45 - E\n",
    "\n",
    "c. 45 to 50 - D\n",
    "\n",
    "d. 50 to 60 - C\n",
    "\n",
    "e. 60 to 80 - B\n",
    "\n",
    "f. Above 80 - A\n",
    "\n",
    "Ask user to enter marks and print the corresponding grade.\n"
   ]
  },
  {
   "cell_type": "code",
   "execution_count": 48,
   "metadata": {},
   "outputs": [
    {
     "name": "stdin",
     "output_type": "stream",
     "text": [
      "enter your obtain marks: 40\n"
     ]
    },
    {
     "name": "stdout",
     "output_type": "stream",
     "text": [
      "your marks 40.0 and your grade is E\n"
     ]
    }
   ],
   "source": [
    "marks = float(input(\"enter your obtain marks:\"))\n",
    "\n",
    "if marks<25:\n",
    "    grade = \"F\"\n",
    "elif 25 <= marks < 45:\n",
    "    grade = \"E\"\n",
    "elif 45 <= marks < 50:\n",
    "    grade = \"D\"\n",
    "elif 50 <= marks < 60:\n",
    "    grade = \"C\"\n",
    "elif 60 <= marks < 80:\n",
    "    grade = \"B\"\n",
    "elif marks > 80:\n",
    "    grade =\"A\"\n",
    "print(f\"your marks {marks} and your grade is {grade}\")"
   ]
  },
  {
   "cell_type": "raw",
   "metadata": {},
   "source": [
    "\n",
    "12) A student will not be allowed to sit in exam if his/her attendence is less than 75%.\n",
    "\n",
    "Take following input from user\n",
    "\n",
    "Number of classes held\n",
    "\n",
    "Number of classes attended.\n",
    "\n",
    "And print\n",
    "\n",
    "percentage of class attended\n",
    "\n",
    "Is student is allowed to sit in exam or not.\n"
   ]
  },
  {
   "cell_type": "code",
   "execution_count": 14,
   "metadata": {},
   "outputs": [
    {
     "name": "stdin",
     "output_type": "stream",
     "text": [
      "classes held: 50\n",
      "classes attended: 40\n"
     ]
    },
    {
     "name": "stdout",
     "output_type": "stream",
     "text": [
      "your attendance_percentage is 80.0\n",
      "wow congrets sit in exam\n"
     ]
    }
   ],
   "source": [
    "req_attendence = \"75%\"\n",
    "\n",
    "classes_held = int(input(\"classes held:\"))\n",
    "classes_attended = int(input(\"classes attended:\"))\n",
    "\n",
    "attendance_percentage = (classes_attended/classes_held) * 100\n",
    "print(f\"your attendance_percentage is {attendance_percentage}\")\n",
    "\n",
    "if attendance_percentage >= 75:\n",
    "    print (\"wow congrets sit in exam\")\n",
    "else:\n",
    "    print(\"sorry  not allowed\")"
   ]
  },
  {
   "cell_type": "raw",
   "metadata": {},
   "source": [
    "\n",
    "13) Modify the above question to allow student to sit if he/she has medical cause. Ask user if he/she has medical cause or not ( 'Y' or 'N' ) and print accordingly.\n"
   ]
  },
  {
   "cell_type": "code",
   "execution_count": 24,
   "metadata": {},
   "outputs": [
    {
     "name": "stdin",
     "output_type": "stream",
     "text": [
      "classes held: 100\n",
      "classes attended: 60\n"
     ]
    },
    {
     "name": "stdout",
     "output_type": "stream",
     "text": [
      "your attendance_percentage is 60.00\n"
     ]
    },
    {
     "name": "stdin",
     "output_type": "stream",
     "text": [
      "is have any medical issue 'Y'or 'N': N\n"
     ]
    },
    {
     "name": "stdout",
     "output_type": "stream",
     "text": [
      "sorry  not allowed\n"
     ]
    }
   ],
   "source": [
    "req_attendence = \"75%\"\n",
    "\n",
    "classes_held = int(input(\"classes held:\"))\n",
    "classes_attended = int(input(\"classes attended:\"))\n",
    "\n",
    "attendance_percentage = (classes_attended/classes_held) * 100\n",
    "print(f\"your attendance_percentage is {attendance_percentage:.2f}\")\n",
    "\n",
    "medical_cause = input(\"is have any medical issue 'Y'or 'N':\")\n",
    "\n",
    "if attendance_percentage >= 75 or medical_cause ==\"Y\":\n",
    "    print (\"wow congrets sit in exam\")\n",
    "else:\n",
    "    print(\"sorry  not allowed\")\n",
    "\n"
   ]
  },
  {
   "cell_type": "raw",
   "metadata": {},
   "source": [
    "\n",
    "14) Write a program to check if a year is leap year or not.\n",
    "If a year is divisible by 4 then it is leap year but if the year is century year like 2000, 1900, 2100 then it must be divisible by 400.\n"
   ]
  },
  {
   "cell_type": "code",
   "execution_count": 11,
   "metadata": {},
   "outputs": [
    {
     "name": "stdin",
     "output_type": "stream",
     "text": [
      "Enter a year:  2100\n"
     ]
    },
    {
     "name": "stdout",
     "output_type": "stream",
     "text": [
      "2100 is not a leap year.\n"
     ]
    }
   ],
   "source": [
    "year = int(input(\"Enter a year: \"))\n",
    "\n",
    "if year % 4 == 0:\n",
    "    if year % 100 == 0:\n",
    "        if year % 400 == 0:\n",
    "            print(f\"{year} is  a leap year.\")\n",
    "        else:\n",
    "            print(f\"{year} is not a leap year.\")\n",
    "    else:\n",
    "        print(f\"{year} is a a leap year.\")\n",
    "else:\n",
    "    print(f\"{year} is not a leap year.\")"
   ]
  },
  {
   "cell_type": "raw",
   "metadata": {},
   "source": [
    "\n",
    "15) Ask user to enter age, gender ( M or F ), marital status ( Y or N ) and then using following rules print their place of service.\n",
    "\n",
    "if employee is female, then she will work only in urban areas.\n",
    "\n",
    "if employee is a male and age is in between 20 to 40 then he may work in anywhere\n",
    "\n",
    "if employee is male and age is in between 40 t0 60 then he will work in urban areas only.\n",
    "\n",
    "And any other input of age should print \"ERROR\"\n"
   ]
  },
  {
   "cell_type": "code",
   "execution_count": 17,
   "metadata": {},
   "outputs": [
    {
     "name": "stdin",
     "output_type": "stream",
     "text": [
      "enter your age: 45\n",
      "enter your gender: m\n",
      "enter your martial status: m\n"
     ]
    },
    {
     "name": "stdout",
     "output_type": "stream",
     "text": [
      "urban areas\n"
     ]
    }
   ],
   "source": [
    "age = int(input(\"enter your age:\"))\n",
    "gender = (input(\"enter your gender:\"))\n",
    "martial_status = (input(\"enter your martial status:\"))\n",
    "\n",
    "if gender == \"f\":\n",
    "  print(\"work only in urban areas\")\n",
    "if gender == \"m\":\n",
    "  if 20 <= age <= 40:\n",
    "     print(\"anywhere\")\n",
    "  elif 40 <= age <= 60:\n",
    "    print(\"urban areas\")\n",
    "  else:\n",
    "      print(\"ERROR: Age range not applicable\")"
   ]
  },
  {
   "cell_type": "raw",
   "metadata": {},
   "source": [
    "\n",
    "16) Write a program to calculate the electricity bill (accept number of unit from user) according to the following criteria :\n",
    "     Unit                                                     Price  \n",
    "uptp 100 units                                             no charge\n",
    "Next 200 units                                              Rs 5 per unit\n",
    "After 200 units                                             Rs 10 per unit\n",
    "(For example if input unit is 350 than total bill amount is Rs.3500\n",
    "(For example if input unit is 97 than total bill amount is Rs.0\n",
    "(For example if input unit is 150 than total bill amount is Rs.750\n"
   ]
  },
  {
   "cell_type": "code",
   "execution_count": 23,
   "metadata": {},
   "outputs": [
    {
     "name": "stdin",
     "output_type": "stream",
     "text": [
      "Enter the number of units used:  101\n"
     ]
    },
    {
     "name": "stdout",
     "output_type": "stream",
     "text": [
      "The total electricity bill is: Rs. 505\n"
     ]
    }
   ],
   "source": [
    "units = int(input(\"Enter the number of units used: \"))\n",
    "\n",
    "if units <= 100:\n",
    "    total_bill = 0\n",
    "elif units <= 200:\n",
    "    total_bill =  units * 5\n",
    "else:\n",
    "    total_bill = units * 10\n",
    "\n",
    "print(f\"The total electricity bill is: Rs. {total_bill}\")"
   ]
  },
  {
   "cell_type": "raw",
   "metadata": {},
   "source": [
    "\n",
    "17) Take input of age of 3 people by user and determine oldest and youngest among them.\n"
   ]
  },
  {
   "cell_type": "code",
   "execution_count": 16,
   "metadata": {},
   "outputs": [
    {
     "name": "stdin",
     "output_type": "stream",
     "text": [
      "enter age of person 1: 4\n",
      "enter age of person 2: 8\n",
      "enter age of person 3: 2\n"
     ]
    },
    {
     "name": "stdout",
     "output_type": "stream",
     "text": [
      "youngest person's age 2\n",
      "Oldest person's age: 8\n"
     ]
    }
   ],
   "source": [
    "age1 = int(input(\"enter age of person 1:\"))\n",
    "age2 = int(input(\"enter age of person 2:\"))\n",
    "age3 = int(input(\"enter age of person 3:\"))\n",
    "\n",
    "oldest = age1\n",
    "\n",
    "if age2 > oldest:\n",
    "    oldest = age2\n",
    "if age3 > oldest:\n",
    "    oldest = age3\n",
    "\n",
    "youngest = age1\n",
    "\n",
    "if age2 < youngest:\n",
    "    youngest = age2\n",
    "if age3 < youngest:\n",
    "    youngest = age3\n",
    "       \n",
    "print(f\"youngest person's age {youngest}\")\n",
    "print(f\"Oldest person's age: {oldest}\")\n"
   ]
  },
  {
   "cell_type": "code",
   "execution_count": null,
   "metadata": {},
   "outputs": [],
   "source": []
  }
 ],
 "metadata": {
  "kernelspec": {
   "display_name": "Python 3 (ipykernel)",
   "language": "python",
   "name": "python3"
  },
  "language_info": {
   "codemirror_mode": {
    "name": "ipython",
    "version": 3
   },
   "file_extension": ".py",
   "mimetype": "text/x-python",
   "name": "python",
   "nbconvert_exporter": "python",
   "pygments_lexer": "ipython3",
   "version": "3.11.5"
  }
 },
 "nbformat": 4,
 "nbformat_minor": 4
}
